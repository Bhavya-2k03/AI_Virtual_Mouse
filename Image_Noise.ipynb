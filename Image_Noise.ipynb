{
  "nbformat": 4,
  "nbformat_minor": 0,
  "metadata": {
    "colab": {
      "provenance": [],
      "authorship_tag": "ABX9TyOVjGQ3uAhKUGg+6C8AwWF9",
      "include_colab_link": true
    },
    "kernelspec": {
      "name": "python3",
      "display_name": "Python 3"
    },
    "language_info": {
      "name": "python"
    }
  },
  "cells": [
    {
      "cell_type": "markdown",
      "metadata": {
        "id": "view-in-github",
        "colab_type": "text"
      },
      "source": [
        "<a href=\"https://colab.research.google.com/github/Bhavya-2k03/AI_Virtual_Mouse/blob/main/Image_Noise.ipynb\" target=\"_parent\"><img src=\"https://colab.research.google.com/assets/colab-badge.svg\" alt=\"Open In Colab\"/></a>"
      ]
    },
    {
      "cell_type": "code",
      "source": [
        "from google.colab.patches import cv2_imshow"
      ],
      "metadata": {
        "id": "ZYYQeMT3GAQe"
      },
      "execution_count": 2,
      "outputs": []
    },
    {
      "cell_type": "code",
      "source": [
        "import numpy as np\n",
        "import cv2\n",
        "import matplotlib.pyplot as plt\n",
        "\n",
        "def show_image(sum_matrix):\n",
        " cv2_imshow(sum_matrix)\n",
        "#  if cv2.waitKey(0) & 0xFF == ord('q'):\n",
        "#     cv2.destroyAllWindows()\n",
        "\n",
        "def plothist(sum_matrix,noise_matrix,original_matrix):\n",
        " a=np.array(sum_matrix.flatten())\n",
        " plt.subplot(6,1,1)\n",
        " plt.title(\"Final Image\")\n",
        " y,binEdges=np.histogram(a,bins=[f for f in range(0,256)])\n",
        " plt.hist(a,bins=[f for f in range(0,256)],color='b', edgecolor='red')\n",
        " plt.subplot(6,1,2)\n",
        " bincenters = 0.5 * (binEdges[1:] + binEdges[:-1])\n",
        " plt.plot(bincenters, y, '-', c='black')\n",
        "\n",
        " b=np.array(noise_matrix.flatten())\n",
        " plt.subplot(6,1,3)\n",
        " plt.title(\"Added Noise Distribution Matrix\")\n",
        " y,binEdges=np.histogram(b,bins=[f for f in range(0,256)])\n",
        " plt.hist(b,bins=[f for f in range(0,256)],color='b', edgecolor='red')\n",
        " plt.subplot(6,1,4)\n",
        " bincenters = 0.5 * (binEdges[1:] + binEdges[:-1])\n",
        " plt.plot(bincenters, y, '-', c='black')\n",
        "\n",
        " c=np.array(original_matrix.flatten())\n",
        " plt.subplot(6,1,5)\n",
        " plt.title(\"Original Image\")\n",
        " y,binEdges=np.histogram(c,bins=[f for f in range(0,256)])\n",
        " plt.hist(c,bins=[f for f in range(0,256)],color='b', edgecolor='red')\n",
        " plt.subplot(6,1,6)\n",
        " bincenters = 0.5 * (binEdges[1:] + binEdges[:-1])\n",
        " plt.plot(bincenters, y, '-', c='black')\n",
        "\n",
        " plt.show()\n",
        "\n",
        "def normal(grayscale):\n",
        " noise_matrix = np.random.normal(0,20, (grayscale.shape))\n",
        " sum_matrix = grayscale + noise_matrix\n",
        "#  cv2.normalize(sum_matrix,sum_matrix, 0, 255, cv2.NORM_MINMAX, dtype=-1)\n",
        " sum_matrix = sum_matrix.astype(np.uint8)\n",
        " show_image(sum_matrix)\n",
        " plothist(sum_matrix,noise_matrix,grayscale)\n",
        "\n",
        "\n",
        "def poisson(grayscale):\n",
        " noise_matrix=np.random.poisson(lam=50,size=grayscale.shape)\n",
        " sum_matrix = grayscale + noise_matrix\n",
        "#  cv2.normalize(sum_matrix,sum_matrix, 0, 255, cv2.NORM_MINMAX, dtype=-1)\n",
        " sum_matrix = sum_matrix.astype(np.uint8)\n",
        " plothist(sum_matrix,noise_matrix,grayscale)\n",
        " show_image(sum_matrix)\n",
        " \n",
        "\n",
        "def binomial(grayscale):\n",
        " noise_matrix=np.random.binomial(100,0.8,size=grayscale.shape)\n",
        " sum_matrix = grayscale + noise_matrix\n",
        "#  cv2.normalize(sum_matrix,sum_matrix, 0, 255, cv2.NORM_MINMAX, dtype=-1)\n",
        " sum_matrix = sum_matrix.astype(np.uint8)\n",
        " plothist(sum_matrix,noise_matrix,grayscale)\n",
        " show_image(sum_matrix)\n",
        "\n",
        "def chisquare(grayscale):\n",
        " noise_matrix=np.random.chisquare(90,size=grayscale.shape)\n",
        " sum_matrix = grayscale + noise_matrix\n",
        "#  cv2.normalize(sum_matrix,sum_matrix, 0, 255, cv2.NORM_MINMAX, dtype=-1)\n",
        " sum_matrix = sum_matrix.astype(np.uint8)\n",
        " show_image(sum_matrix)\n",
        " plothist(sum_matrix,noise_matrix,grayscale)\n",
        "\n",
        "def exponential(grayscale):\n",
        " noise_matrix=np.random.exponential(50,size=grayscale.shape)\n",
        " sum_matrix = grayscale + noise_matrix\n",
        " cv2.normalize(sum_matrix,sum_matrix, 0, 255, cv2.NORM_MINMAX, dtype=-1)\n",
        " sum_matrix = sum_matrix.astype(np.uint8)\n",
        " show_image(sum_matrix)\n",
        " plothist(sum_matrix,noise_matrix,grayscale)\n",
        "\n",
        "def gamma(grayscale):\n",
        " noise_matrix=np.random.gamma(12.,15.,size=grayscale.shape)\n",
        " sum_matrix = grayscale + noise_matrix\n",
        " cv2.normalize(sum_matrix,sum_matrix, 0, 255, cv2.NORM_MINMAX, dtype=-1)\n",
        " sum_matrix = sum_matrix.astype(np.uint8)\n",
        " show_image(sum_matrix)\n",
        " plothist(sum_matrix,noise_matrix,grayscale)\n",
        " \n",
        "img = cv2.imread(\"/content/sample2.tif\")\n",
        "\n",
        "# print(img)\n",
        "grayscale = cv2.cvtColor(img, cv2.COLOR_BGR2GRAY)\n",
        "cv2_imshow(grayscale)\n",
        "if cv2.waitKey(0) & 0xFF == ord('q'):\n",
        "    cv2.destroyAllWindows()\n",
        "  "
      ],
      "metadata": {
        "id": "3zRBO0JPF_Ig"
      },
      "execution_count": null,
      "outputs": []
    },
    {
      "cell_type": "code",
      "source": [
        "# input=int(input('''Enter:\n",
        "#                1 -> Normal distribution\n",
        "#                2 -> Poisson distribution\n",
        "#                3 -> Binomial distribution\n",
        "#                4 -> Chisquare distribution\n",
        "#                5 -> Exponential distribution\n",
        "#                6 -> Gamma distribution\n",
        "#                               '''))\n",
        "input=6\n",
        "if input == 1:\n",
        "    normal(grayscale)\n",
        "elif input == 2:\n",
        "    poisson(grayscale)\n",
        "elif input ==3:\n",
        "    binomial(grayscale)\n",
        "elif input ==4:        \n",
        "    chisquare(grayscale)\n",
        "elif input ==5:\n",
        "    exponential(grayscale)\n",
        "elif input ==6:\n",
        "    gamma(grayscale)\n",
        "else:\n",
        "    print(\"Invalid input, Kindly try again\")  "
      ],
      "metadata": {
        "id": "qrirliYfGYu0"
      },
      "execution_count": null,
      "outputs": []
    }
  ]
}